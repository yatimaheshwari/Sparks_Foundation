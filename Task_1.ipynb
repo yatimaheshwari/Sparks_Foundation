{
 "cells": [
  {
   "attachments": {},
   "cell_type": "markdown",
   "metadata": {},
   "source": [
    "# **The Sparks Foundation** <br> (GRIPMARCH23)\n",
    "## \"Data Science & Business Analytics\"<br>\n",
    "## Task-1 : Prediction using Supervised ML <br>\n",
    "#### Perform a simple linear regression analysis for Predict the percentage of an student based on the no. of study hours <br>\n",
    "## **Aurthor** : *Yati Maheshwari*"
   ]
  },
  {
   "attachments": {},
   "cell_type": "markdown",
   "metadata": {},
   "source": [
    "## Importing the relevant libraries"
   ]
  },
  {
   "cell_type": "code",
   "execution_count": 42,
   "metadata": {},
   "outputs": [],
   "source": [
    "#Importing libraries\n",
    "import numpy as np\n",
    "import pandas as pd\n",
    "import matplotlib.pyplot as plt \n",
    "import seaborn as sns\n",
    "from sklearn.model_selection import train_test_split\n",
    "from sklearn.linear_model import LinearRegression\n",
    "import statsmodels.api as sm\n",
    "from sklearn import metrics"
   ]
  },
  {
   "attachments": {},
   "cell_type": "markdown",
   "metadata": {},
   "source": [
    "#### we can load our dataset, which should include two columns: one for the number of hours read, and one for the student's score."
   ]
  },
  {
   "cell_type": "code",
   "execution_count": 43,
   "metadata": {},
   "outputs": [
    {
     "data": {
      "text/html": [
       "<style type=\"text/css\">\n",
       "#T_3fc66_row0_col0, #T_3fc66_row16_col0 {\n",
       "  background-color: #fdd6d2;\n",
       "  color: #000000;\n",
       "}\n",
       "#T_3fc66_row0_col1 {\n",
       "  background-color: #feeeea;\n",
       "  color: #000000;\n",
       "}\n",
       "#T_3fc66_row1_col0 {\n",
       "  background-color: #f76ba2;\n",
       "  color: #f1f1f1;\n",
       "}\n",
       "#T_3fc66_row1_col1 {\n",
       "  background-color: #fa9bb4;\n",
       "  color: #000000;\n",
       "}\n",
       "#T_3fc66_row2_col0 {\n",
       "  background-color: #fcc2bf;\n",
       "  color: #000000;\n",
       "}\n",
       "#T_3fc66_row2_col1 {\n",
       "  background-color: #fde0dd;\n",
       "  color: #000000;\n",
       "}\n",
       "#T_3fc66_row3_col0, #T_3fc66_row6_col1 {\n",
       "  background-color: #6b0173;\n",
       "  color: #f1f1f1;\n",
       "}\n",
       "#T_3fc66_row3_col1 {\n",
       "  background-color: #b0037f;\n",
       "  color: #f1f1f1;\n",
       "}\n",
       "#T_3fc66_row4_col0 {\n",
       "  background-color: #fbb8bc;\n",
       "  color: #000000;\n",
       "}\n",
       "#T_3fc66_row4_col1, #T_3fc66_row16_col1, #T_3fc66_row20_col1 {\n",
       "  background-color: #fdd7d4;\n",
       "  color: #000000;\n",
       "}\n",
       "#T_3fc66_row5_col0 {\n",
       "  background-color: #feeeeb;\n",
       "  color: #000000;\n",
       "}\n",
       "#T_3fc66_row5_col1 {\n",
       "  background-color: #fef1ed;\n",
       "  color: #000000;\n",
       "}\n",
       "#T_3fc66_row6_col0, #T_3fc66_row15_col1 {\n",
       "  background-color: #49006a;\n",
       "  color: #f1f1f1;\n",
       "}\n",
       "#T_3fc66_row7_col0 {\n",
       "  background-color: #ee559d;\n",
       "  color: #f1f1f1;\n",
       "}\n",
       "#T_3fc66_row7_col1 {\n",
       "  background-color: #ec529d;\n",
       "  color: #f1f1f1;\n",
       "}\n",
       "#T_3fc66_row8_col0 {\n",
       "  background-color: #740175;\n",
       "  color: #f1f1f1;\n",
       "}\n",
       "#T_3fc66_row8_col1 {\n",
       "  background-color: #8f017a;\n",
       "  color: #f1f1f1;\n",
       "}\n",
       "#T_3fc66_row9_col0, #T_3fc66_row20_col0 {\n",
       "  background-color: #fcd1cd;\n",
       "  color: #000000;\n",
       "}\n",
       "#T_3fc66_row9_col1 {\n",
       "  background-color: #fde4e1;\n",
       "  color: #000000;\n",
       "}\n",
       "#T_3fc66_row10_col0 {\n",
       "  background-color: #93017a;\n",
       "  color: #f1f1f1;\n",
       "}\n",
       "#T_3fc66_row10_col1 {\n",
       "  background-color: #7a0177;\n",
       "  color: #f1f1f1;\n",
       "}\n",
       "#T_3fc66_row11_col0 {\n",
       "  background-color: #e4429a;\n",
       "  color: #f1f1f1;\n",
       "}\n",
       "#T_3fc66_row11_col1 {\n",
       "  background-color: #e7489b;\n",
       "  color: #f1f1f1;\n",
       "}\n",
       "#T_3fc66_row12_col0 {\n",
       "  background-color: #f98bae;\n",
       "  color: #000000;\n",
       "}\n",
       "#T_3fc66_row12_col1 {\n",
       "  background-color: #fbb4bb;\n",
       "  color: #000000;\n",
       "}\n",
       "#T_3fc66_row13_col0 {\n",
       "  background-color: #fcbfbe;\n",
       "  color: #000000;\n",
       "}\n",
       "#T_3fc66_row13_col1 {\n",
       "  background-color: #fbafba;\n",
       "  color: #000000;\n",
       "}\n",
       "#T_3fc66_row14_col0, #T_3fc66_row14_col1 {\n",
       "  background-color: #fff7f3;\n",
       "  color: #000000;\n",
       "}\n",
       "#T_3fc66_row15_col0 {\n",
       "  background-color: #57006e;\n",
       "  color: #f1f1f1;\n",
       "}\n",
       "#T_3fc66_row17_col0 {\n",
       "  background-color: #fde5e2;\n",
       "  color: #000000;\n",
       "}\n",
       "#T_3fc66_row17_col1 {\n",
       "  background-color: #fee7e4;\n",
       "  color: #000000;\n",
       "}\n",
       "#T_3fc66_row18_col0 {\n",
       "  background-color: #de3697;\n",
       "  color: #f1f1f1;\n",
       "}\n",
       "#T_3fc66_row18_col1 {\n",
       "  background-color: #d62d93;\n",
       "  color: #f1f1f1;\n",
       "}\n",
       "#T_3fc66_row19_col0 {\n",
       "  background-color: #a1017c;\n",
       "  color: #f1f1f1;\n",
       "}\n",
       "#T_3fc66_row19_col1 {\n",
       "  background-color: #cd238f;\n",
       "  color: #f1f1f1;\n",
       "}\n",
       "#T_3fc66_row21_col0 {\n",
       "  background-color: #f87ca8;\n",
       "  color: #f1f1f1;\n",
       "}\n",
       "#T_3fc66_row21_col1 {\n",
       "  background-color: #f873a5;\n",
       "  color: #f1f1f1;\n",
       "}\n",
       "#T_3fc66_row22_col0 {\n",
       "  background-color: #fbacb9;\n",
       "  color: #000000;\n",
       "}\n",
       "#T_3fc66_row22_col1 {\n",
       "  background-color: #fcc9c4;\n",
       "  color: #000000;\n",
       "}\n",
       "#T_3fc66_row23_col0 {\n",
       "  background-color: #ba0e84;\n",
       "  color: #f1f1f1;\n",
       "}\n",
       "#T_3fc66_row23_col1 {\n",
       "  background-color: #ab017e;\n",
       "  color: #f1f1f1;\n",
       "}\n",
       "#T_3fc66_row24_col0 {\n",
       "  background-color: #8e017a;\n",
       "  color: #f1f1f1;\n",
       "}\n",
       "#T_3fc66_row24_col1 {\n",
       "  background-color: #760176;\n",
       "  color: #f1f1f1;\n",
       "}\n",
       "</style>\n",
       "<table id=\"T_3fc66\">\n",
       "  <thead>\n",
       "    <tr>\n",
       "      <th class=\"blank level0\" >&nbsp;</th>\n",
       "      <th id=\"T_3fc66_level0_col0\" class=\"col_heading level0 col0\" >Hours</th>\n",
       "      <th id=\"T_3fc66_level0_col1\" class=\"col_heading level0 col1\" >Scores</th>\n",
       "    </tr>\n",
       "  </thead>\n",
       "  <tbody>\n",
       "    <tr>\n",
       "      <th id=\"T_3fc66_level0_row0\" class=\"row_heading level0 row0\" >0</th>\n",
       "      <td id=\"T_3fc66_row0_col0\" class=\"data row0 col0\" >2.500000</td>\n",
       "      <td id=\"T_3fc66_row0_col1\" class=\"data row0 col1\" >21</td>\n",
       "    </tr>\n",
       "    <tr>\n",
       "      <th id=\"T_3fc66_level0_row1\" class=\"row_heading level0 row1\" >1</th>\n",
       "      <td id=\"T_3fc66_row1_col0\" class=\"data row1 col0\" >5.100000</td>\n",
       "      <td id=\"T_3fc66_row1_col1\" class=\"data row1 col1\" >47</td>\n",
       "    </tr>\n",
       "    <tr>\n",
       "      <th id=\"T_3fc66_level0_row2\" class=\"row_heading level0 row2\" >2</th>\n",
       "      <td id=\"T_3fc66_row2_col0\" class=\"data row2 col0\" >3.200000</td>\n",
       "      <td id=\"T_3fc66_row2_col1\" class=\"data row2 col1\" >27</td>\n",
       "    </tr>\n",
       "    <tr>\n",
       "      <th id=\"T_3fc66_level0_row3\" class=\"row_heading level0 row3\" >3</th>\n",
       "      <td id=\"T_3fc66_row3_col0\" class=\"data row3 col0\" >8.500000</td>\n",
       "      <td id=\"T_3fc66_row3_col1\" class=\"data row3 col1\" >75</td>\n",
       "    </tr>\n",
       "    <tr>\n",
       "      <th id=\"T_3fc66_level0_row4\" class=\"row_heading level0 row4\" >4</th>\n",
       "      <td id=\"T_3fc66_row4_col0\" class=\"data row4 col0\" >3.500000</td>\n",
       "      <td id=\"T_3fc66_row4_col1\" class=\"data row4 col1\" >30</td>\n",
       "    </tr>\n",
       "    <tr>\n",
       "      <th id=\"T_3fc66_level0_row5\" class=\"row_heading level0 row5\" >5</th>\n",
       "      <td id=\"T_3fc66_row5_col0\" class=\"data row5 col0\" >1.500000</td>\n",
       "      <td id=\"T_3fc66_row5_col1\" class=\"data row5 col1\" >20</td>\n",
       "    </tr>\n",
       "    <tr>\n",
       "      <th id=\"T_3fc66_level0_row6\" class=\"row_heading level0 row6\" >6</th>\n",
       "      <td id=\"T_3fc66_row6_col0\" class=\"data row6 col0\" >9.200000</td>\n",
       "      <td id=\"T_3fc66_row6_col1\" class=\"data row6 col1\" >88</td>\n",
       "    </tr>\n",
       "    <tr>\n",
       "      <th id=\"T_3fc66_level0_row7\" class=\"row_heading level0 row7\" >7</th>\n",
       "      <td id=\"T_3fc66_row7_col0\" class=\"data row7 col0\" >5.500000</td>\n",
       "      <td id=\"T_3fc66_row7_col1\" class=\"data row7 col1\" >60</td>\n",
       "    </tr>\n",
       "    <tr>\n",
       "      <th id=\"T_3fc66_level0_row8\" class=\"row_heading level0 row8\" >8</th>\n",
       "      <td id=\"T_3fc66_row8_col0\" class=\"data row8 col0\" >8.300000</td>\n",
       "      <td id=\"T_3fc66_row8_col1\" class=\"data row8 col1\" >81</td>\n",
       "    </tr>\n",
       "    <tr>\n",
       "      <th id=\"T_3fc66_level0_row9\" class=\"row_heading level0 row9\" >9</th>\n",
       "      <td id=\"T_3fc66_row9_col0\" class=\"data row9 col0\" >2.700000</td>\n",
       "      <td id=\"T_3fc66_row9_col1\" class=\"data row9 col1\" >25</td>\n",
       "    </tr>\n",
       "    <tr>\n",
       "      <th id=\"T_3fc66_level0_row10\" class=\"row_heading level0 row10\" >10</th>\n",
       "      <td id=\"T_3fc66_row10_col0\" class=\"data row10 col0\" >7.700000</td>\n",
       "      <td id=\"T_3fc66_row10_col1\" class=\"data row10 col1\" >85</td>\n",
       "    </tr>\n",
       "    <tr>\n",
       "      <th id=\"T_3fc66_level0_row11\" class=\"row_heading level0 row11\" >11</th>\n",
       "      <td id=\"T_3fc66_row11_col0\" class=\"data row11 col0\" >5.900000</td>\n",
       "      <td id=\"T_3fc66_row11_col1\" class=\"data row11 col1\" >62</td>\n",
       "    </tr>\n",
       "    <tr>\n",
       "      <th id=\"T_3fc66_level0_row12\" class=\"row_heading level0 row12\" >12</th>\n",
       "      <td id=\"T_3fc66_row12_col0\" class=\"data row12 col0\" >4.500000</td>\n",
       "      <td id=\"T_3fc66_row12_col1\" class=\"data row12 col1\" >41</td>\n",
       "    </tr>\n",
       "    <tr>\n",
       "      <th id=\"T_3fc66_level0_row13\" class=\"row_heading level0 row13\" >13</th>\n",
       "      <td id=\"T_3fc66_row13_col0\" class=\"data row13 col0\" >3.300000</td>\n",
       "      <td id=\"T_3fc66_row13_col1\" class=\"data row13 col1\" >42</td>\n",
       "    </tr>\n",
       "    <tr>\n",
       "      <th id=\"T_3fc66_level0_row14\" class=\"row_heading level0 row14\" >14</th>\n",
       "      <td id=\"T_3fc66_row14_col0\" class=\"data row14 col0\" >1.100000</td>\n",
       "      <td id=\"T_3fc66_row14_col1\" class=\"data row14 col1\" >17</td>\n",
       "    </tr>\n",
       "    <tr>\n",
       "      <th id=\"T_3fc66_level0_row15\" class=\"row_heading level0 row15\" >15</th>\n",
       "      <td id=\"T_3fc66_row15_col0\" class=\"data row15 col0\" >8.900000</td>\n",
       "      <td id=\"T_3fc66_row15_col1\" class=\"data row15 col1\" >95</td>\n",
       "    </tr>\n",
       "    <tr>\n",
       "      <th id=\"T_3fc66_level0_row16\" class=\"row_heading level0 row16\" >16</th>\n",
       "      <td id=\"T_3fc66_row16_col0\" class=\"data row16 col0\" >2.500000</td>\n",
       "      <td id=\"T_3fc66_row16_col1\" class=\"data row16 col1\" >30</td>\n",
       "    </tr>\n",
       "    <tr>\n",
       "      <th id=\"T_3fc66_level0_row17\" class=\"row_heading level0 row17\" >17</th>\n",
       "      <td id=\"T_3fc66_row17_col0\" class=\"data row17 col0\" >1.900000</td>\n",
       "      <td id=\"T_3fc66_row17_col1\" class=\"data row17 col1\" >24</td>\n",
       "    </tr>\n",
       "    <tr>\n",
       "      <th id=\"T_3fc66_level0_row18\" class=\"row_heading level0 row18\" >18</th>\n",
       "      <td id=\"T_3fc66_row18_col0\" class=\"data row18 col0\" >6.100000</td>\n",
       "      <td id=\"T_3fc66_row18_col1\" class=\"data row18 col1\" >67</td>\n",
       "    </tr>\n",
       "    <tr>\n",
       "      <th id=\"T_3fc66_level0_row19\" class=\"row_heading level0 row19\" >19</th>\n",
       "      <td id=\"T_3fc66_row19_col0\" class=\"data row19 col0\" >7.400000</td>\n",
       "      <td id=\"T_3fc66_row19_col1\" class=\"data row19 col1\" >69</td>\n",
       "    </tr>\n",
       "    <tr>\n",
       "      <th id=\"T_3fc66_level0_row20\" class=\"row_heading level0 row20\" >20</th>\n",
       "      <td id=\"T_3fc66_row20_col0\" class=\"data row20 col0\" >2.700000</td>\n",
       "      <td id=\"T_3fc66_row20_col1\" class=\"data row20 col1\" >30</td>\n",
       "    </tr>\n",
       "    <tr>\n",
       "      <th id=\"T_3fc66_level0_row21\" class=\"row_heading level0 row21\" >21</th>\n",
       "      <td id=\"T_3fc66_row21_col0\" class=\"data row21 col0\" >4.800000</td>\n",
       "      <td id=\"T_3fc66_row21_col1\" class=\"data row21 col1\" >54</td>\n",
       "    </tr>\n",
       "    <tr>\n",
       "      <th id=\"T_3fc66_level0_row22\" class=\"row_heading level0 row22\" >22</th>\n",
       "      <td id=\"T_3fc66_row22_col0\" class=\"data row22 col0\" >3.800000</td>\n",
       "      <td id=\"T_3fc66_row22_col1\" class=\"data row22 col1\" >35</td>\n",
       "    </tr>\n",
       "    <tr>\n",
       "      <th id=\"T_3fc66_level0_row23\" class=\"row_heading level0 row23\" >23</th>\n",
       "      <td id=\"T_3fc66_row23_col0\" class=\"data row23 col0\" >6.900000</td>\n",
       "      <td id=\"T_3fc66_row23_col1\" class=\"data row23 col1\" >76</td>\n",
       "    </tr>\n",
       "    <tr>\n",
       "      <th id=\"T_3fc66_level0_row24\" class=\"row_heading level0 row24\" >24</th>\n",
       "      <td id=\"T_3fc66_row24_col0\" class=\"data row24 col0\" >7.800000</td>\n",
       "      <td id=\"T_3fc66_row24_col1\" class=\"data row24 col1\" >86</td>\n",
       "    </tr>\n",
       "  </tbody>\n",
       "</table>\n"
      ],
      "text/plain": [
       "<pandas.io.formats.style.Styler at 0x1d27c259df0>"
      ]
     },
     "execution_count": 43,
     "metadata": {},
     "output_type": "execute_result"
    }
   ],
   "source": [
    "#Loading Dataset\n",
    "data = pd.read_csv('http://bit.ly/w-data')\n",
    "data.style.background_gradient(cmap='RdPu')"
   ]
  },
  {
   "attachments": {},
   "cell_type": "markdown",
   "metadata": {},
   "source": [
    "## Preprocessing <br>\n",
    "### Exploring the descriptive statistics of the variables"
   ]
  },
  {
   "cell_type": "code",
   "execution_count": 44,
   "metadata": {},
   "outputs": [
    {
     "data": {
      "text/html": [
       "<style type=\"text/css\">\n",
       "#T_6de1b_row0_col0, #T_6de1b_row7_col1 {\n",
       "  background-color: #08306b;\n",
       "  color: #f1f1f1;\n",
       "}\n",
       "#T_6de1b_row0_col1 {\n",
       "  background-color: #e3eef8;\n",
       "  color: #000000;\n",
       "}\n",
       "#T_6de1b_row1_col0 {\n",
       "  background-color: #d7e6f5;\n",
       "  color: #000000;\n",
       "}\n",
       "#T_6de1b_row1_col1 {\n",
       "  background-color: #82bbdb;\n",
       "  color: #000000;\n",
       "}\n",
       "#T_6de1b_row2_col0 {\n",
       "  background-color: #ebf3fb;\n",
       "  color: #000000;\n",
       "}\n",
       "#T_6de1b_row2_col1 {\n",
       "  background-color: #e2edf8;\n",
       "  color: #000000;\n",
       "}\n",
       "#T_6de1b_row3_col0, #T_6de1b_row3_col1 {\n",
       "  background-color: #f7fbff;\n",
       "  color: #000000;\n",
       "}\n",
       "#T_6de1b_row4_col0 {\n",
       "  background-color: #eaf2fb;\n",
       "  color: #000000;\n",
       "}\n",
       "#T_6de1b_row4_col1 {\n",
       "  background-color: #d6e6f4;\n",
       "  color: #000000;\n",
       "}\n",
       "#T_6de1b_row5_col0 {\n",
       "  background-color: #d9e7f5;\n",
       "  color: #000000;\n",
       "}\n",
       "#T_6de1b_row5_col1 {\n",
       "  background-color: #9ac8e0;\n",
       "  color: #000000;\n",
       "}\n",
       "#T_6de1b_row6_col0 {\n",
       "  background-color: #c2d9ee;\n",
       "  color: #000000;\n",
       "}\n",
       "#T_6de1b_row6_col1 {\n",
       "  background-color: #2272b6;\n",
       "  color: #f1f1f1;\n",
       "}\n",
       "#T_6de1b_row7_col0 {\n",
       "  background-color: #aacfe5;\n",
       "  color: #000000;\n",
       "}\n",
       "</style>\n",
       "<table id=\"T_6de1b\">\n",
       "  <thead>\n",
       "    <tr>\n",
       "      <th class=\"blank level0\" >&nbsp;</th>\n",
       "      <th id=\"T_6de1b_level0_col0\" class=\"col_heading level0 col0\" >Hours</th>\n",
       "      <th id=\"T_6de1b_level0_col1\" class=\"col_heading level0 col1\" >Scores</th>\n",
       "    </tr>\n",
       "  </thead>\n",
       "  <tbody>\n",
       "    <tr>\n",
       "      <th id=\"T_6de1b_level0_row0\" class=\"row_heading level0 row0\" >count</th>\n",
       "      <td id=\"T_6de1b_row0_col0\" class=\"data row0 col0\" >25.000000</td>\n",
       "      <td id=\"T_6de1b_row0_col1\" class=\"data row0 col1\" >25.000000</td>\n",
       "    </tr>\n",
       "    <tr>\n",
       "      <th id=\"T_6de1b_level0_row1\" class=\"row_heading level0 row1\" >mean</th>\n",
       "      <td id=\"T_6de1b_row1_col0\" class=\"data row1 col0\" >5.012000</td>\n",
       "      <td id=\"T_6de1b_row1_col1\" class=\"data row1 col1\" >51.480000</td>\n",
       "    </tr>\n",
       "    <tr>\n",
       "      <th id=\"T_6de1b_level0_row2\" class=\"row_heading level0 row2\" >std</th>\n",
       "      <td id=\"T_6de1b_row2_col0\" class=\"data row2 col0\" >2.525094</td>\n",
       "      <td id=\"T_6de1b_row2_col1\" class=\"data row2 col1\" >25.286887</td>\n",
       "    </tr>\n",
       "    <tr>\n",
       "      <th id=\"T_6de1b_level0_row3\" class=\"row_heading level0 row3\" >min</th>\n",
       "      <td id=\"T_6de1b_row3_col0\" class=\"data row3 col0\" >1.100000</td>\n",
       "      <td id=\"T_6de1b_row3_col1\" class=\"data row3 col1\" >17.000000</td>\n",
       "    </tr>\n",
       "    <tr>\n",
       "      <th id=\"T_6de1b_level0_row4\" class=\"row_heading level0 row4\" >25%</th>\n",
       "      <td id=\"T_6de1b_row4_col0\" class=\"data row4 col0\" >2.700000</td>\n",
       "      <td id=\"T_6de1b_row4_col1\" class=\"data row4 col1\" >30.000000</td>\n",
       "    </tr>\n",
       "    <tr>\n",
       "      <th id=\"T_6de1b_level0_row5\" class=\"row_heading level0 row5\" >50%</th>\n",
       "      <td id=\"T_6de1b_row5_col0\" class=\"data row5 col0\" >4.800000</td>\n",
       "      <td id=\"T_6de1b_row5_col1\" class=\"data row5 col1\" >47.000000</td>\n",
       "    </tr>\n",
       "    <tr>\n",
       "      <th id=\"T_6de1b_level0_row6\" class=\"row_heading level0 row6\" >75%</th>\n",
       "      <td id=\"T_6de1b_row6_col0\" class=\"data row6 col0\" >7.400000</td>\n",
       "      <td id=\"T_6de1b_row6_col1\" class=\"data row6 col1\" >75.000000</td>\n",
       "    </tr>\n",
       "    <tr>\n",
       "      <th id=\"T_6de1b_level0_row7\" class=\"row_heading level0 row7\" >max</th>\n",
       "      <td id=\"T_6de1b_row7_col0\" class=\"data row7 col0\" >9.200000</td>\n",
       "      <td id=\"T_6de1b_row7_col1\" class=\"data row7 col1\" >95.000000</td>\n",
       "    </tr>\n",
       "  </tbody>\n",
       "</table>\n"
      ],
      "text/plain": [
       "<pandas.io.formats.style.Styler at 0x1d27c1f3040>"
      ]
     },
     "execution_count": 44,
     "metadata": {},
     "output_type": "execute_result"
    }
   ],
   "source": [
    "#Statistical Analysis\n",
    "data.describe(include = 'all').style.background_gradient(cmap='Blues')"
   ]
  },
  {
   "attachments": {},
   "cell_type": "markdown",
   "metadata": {},
   "source": [
    "### Dealing with missing values"
   ]
  },
  {
   "cell_type": "code",
   "execution_count": 45,
   "metadata": {},
   "outputs": [
    {
     "data": {
      "text/plain": [
       "Hours     0\n",
       "Scores    0\n",
       "dtype: int64"
      ]
     },
     "execution_count": 45,
     "metadata": {},
     "output_type": "execute_result"
    }
   ],
   "source": [
    "#Checking null data\n",
    "data.isnull().sum()"
   ]
  },
  {
   "attachments": {},
   "cell_type": "markdown",
   "metadata": {},
   "source": [
    " There is no null value."
   ]
  },
  {
   "attachments": {},
   "cell_type": "markdown",
   "metadata": {},
   "source": [
    "### Checking Outliers "
   ]
  },
  {
   "cell_type": "code",
   "execution_count": 46,
   "metadata": {},
   "outputs": [
    {
     "name": "stderr",
     "output_type": "stream",
     "text": [
      "c:\\Users\\rdroi\\anaconda3\\lib\\site-packages\\seaborn\\_decorators.py:36: FutureWarning: Pass the following variable as a keyword arg: x. From version 0.12, the only valid positional argument will be `data`, and passing other arguments without an explicit keyword will result in an error or misinterpretation.\n",
      "  warnings.warn(\n"
     ]
    },
    {
     "data": {
      "text/plain": [
       "<AxesSubplot:xlabel='Scores'>"
      ]
     },
     "execution_count": 46,
     "metadata": {},
     "output_type": "execute_result"
    },
    {
     "data": {
      "image/png": "[encoded data removed]",
      "text/plain": [
       "<Figure size 640x480 with 1 Axes>"
      ]
     },
     "metadata": {},
     "output_type": "display_data"
    }
   ],
   "source": [
    "sns.boxplot(data['Scores'])"
   ]
  },
  {
   "attachments": {},
   "cell_type": "markdown",
   "metadata": {},
   "source": [
    "Clearly there is no Outliers"
   ]
  },
  {
   "attachments": {},
   "cell_type": "markdown",
   "metadata": {},
   "source": [
    "## Data Visualisation<br>\n",
    "### Heat Map<br>\n",
    "#### that defines how much they are correlated"
   ]
  },
  {
   "cell_type": "code",
   "execution_count": 47,
   "metadata": {},
   "outputs": [
    {
     "data": {
      "image/png": "[encoded data removed]",
      "text/plain": [
       "<Figure size 500x500 with 2 Axes>"
      ]
     },
     "metadata": {},
     "output_type": "display_data"
    }
   ],
   "source": [
    "corrmat = data.corr()\n",
    "top_corr_features = corrmat.index                    \n",
    "plt.figure(figsize = (5,5))\n",
    "plt.title('Heat Map', fontsize=14)\n",
    "g = sns.heatmap(data[corrmat.index].corr(), cmap=\"crest\")\n",
    "g.xaxis.tick_top()\n",
    "plt.tight_layout()"
   ]
  },
  {
   "attachments": {},
   "cell_type": "markdown",
   "metadata": {},
   "source": [
    "### Correlation Matrix"
   ]
  },
  {
   "cell_type": "code",
   "execution_count": 48,
   "metadata": {},
   "outputs": [
    {
     "data": {
      "text/html": [
       "<div>\n",
       "<style scoped>\n",
       "    .dataframe tbody tr th:only-of-type {\n",
       "        vertical-align: middle;\n",
       "    }\n",
       "\n",
       "    .dataframe tbody tr th {\n",
       "        vertical-align: top;\n",
       "    }\n",
       "\n",
       "    .dataframe thead th {\n",
       "        text-align: right;\n",
       "    }\n",
       "</style>\n",
       "<table border=\"1\" class=\"dataframe\">\n",
       "  <thead>\n",
       "    <tr style=\"text-align: right;\">\n",
       "      <th></th>\n",
       "      <th>Hours</th>\n",
       "      <th>Scores</th>\n",
       "    </tr>\n",
       "  </thead>\n",
       "  <tbody>\n",
       "    <tr>\n",
       "      <th>Hours</th>\n",
       "      <td>1.00</td>\n",
       "      <td>0.98</td>\n",
       "    </tr>\n",
       "    <tr>\n",
       "      <th>Scores</th>\n",
       "      <td>0.98</td>\n",
       "      <td>1.00</td>\n",
       "    </tr>\n",
       "  </tbody>\n",
       "</table>\n",
       "</div>"
      ],
      "text/plain": [
       "        Hours  Scores\n",
       "Hours    1.00    0.98\n",
       "Scores   0.98    1.00"
      ]
     },
     "execution_count": 48,
     "metadata": {},
     "output_type": "execute_result"
    }
   ],
   "source": [
    "#correlation coffiecient (.98) define both variable are positively highly correlated \n",
    "pd.set_option('display.precision', 2)\n",
    "data.corr()"
   ]
  },
  {
   "attachments": {},
   "cell_type": "markdown",
   "metadata": {},
   "source": [
    "### Scatter Plot"
   ]
  },
  {
   "cell_type": "code",
   "execution_count": 49,
   "metadata": {},
   "outputs": [
    {
     "data": {
      "image/png": "[encoded data removed]",
      "text/plain": [
       "<Figure size 565.5x500 with 1 Axes>"
      ]
     },
     "metadata": {},
     "output_type": "display_data"
    }
   ],
   "source": [
    "sns.relplot(x='Hours', y='Scores', data=data,kind='scatter',size='Scores');\n",
    "sns.set_style('darkgrid')"
   ]
  },
  {
   "attachments": {},
   "cell_type": "markdown",
   "metadata": {},
   "source": [
    "### Declare the inputs and the targets"
   ]
  },
  {
   "cell_type": "code",
   "execution_count": 50,
   "metadata": {},
   "outputs": [],
   "source": [
    "# Input\n",
    "X = data['Hours']\n",
    "# Target\n",
    "Y = data['Scores']"
   ]
  },
  {
   "attachments": {},
   "cell_type": "markdown",
   "metadata": {},
   "source": [
    "It is useful to check the shapes of the features"
   ]
  },
  {
   "cell_type": "code",
   "execution_count": 51,
   "metadata": {},
   "outputs": [
    {
     "data": {
      "text/plain": [
       "(25,)"
      ]
     },
     "execution_count": 51,
     "metadata": {},
     "output_type": "execute_result"
    }
   ],
   "source": [
    "X.shape"
   ]
  },
  {
   "attachments": {},
   "cell_type": "markdown",
   "metadata": {},
   "source": [
    "In order to feed x to sklearn, it should be a 2D array (a matrix)<br>\n",
    "We must reshape it"
   ]
  },
  {
   "cell_type": "code",
   "execution_count": 52,
   "metadata": {},
   "outputs": [
    {
     "data": {
      "text/plain": [
       "(25, 1)"
      ]
     },
     "execution_count": 52,
     "metadata": {},
     "output_type": "execute_result"
    }
   ],
   "source": [
    "x_matrix = X.values.reshape(-1,1)\n",
    "y_matrix = Y.values.reshape(-1,1)\n",
    "x_matrix.shape"
   ]
  },
  {
   "attachments": {},
   "cell_type": "markdown",
   "metadata": {},
   "source": [
    "## Train Test Split\n",
    "Split the variables with an 80-20 split and some random state"
   ]
  },
  {
   "cell_type": "code",
   "execution_count": 53,
   "metadata": {},
   "outputs": [
    {
     "name": "stdout",
     "output_type": "stream",
     "text": [
      "(20, 1) (5, 1) (20, 1) (5, 1)\n"
     ]
    }
   ],
   "source": [
    "X_train, X_test, y_train, y_test = train_test_split(x_matrix, y_matrix, test_size=0.2, random_state= 42)\n",
    "print(X_train.shape, X_test.shape, y_train.shape, y_test.shape)"
   ]
  },
  {
   "attachments": {},
   "cell_type": "markdown",
   "metadata": {},
   "source": [
    "## Create the Linear Regression Model and training the data"
   ]
  },
  {
   "cell_type": "code",
   "execution_count": 54,
   "metadata": {},
   "outputs": [
    {
     "data": {
      "text/plain": [
       "LinearRegression()"
      ]
     },
     "execution_count": 54,
     "metadata": {},
     "output_type": "execute_result"
    }
   ],
   "source": [
    "reg = LinearRegression()\n",
    "reg.fit(X_train,y_train)"
   ]
  },
  {
   "attachments": {},
   "cell_type": "markdown",
   "metadata": {},
   "source": [
    "### R-squared"
   ]
  },
  {
   "cell_type": "code",
   "execution_count": 55,
   "metadata": {},
   "outputs": [
    {
     "data": {
      "text/plain": [
       "0.9491209376364416"
      ]
     },
     "execution_count": 55,
     "metadata": {},
     "output_type": "execute_result"
    }
   ],
   "source": [
    "reg.score(X_train,y_train)"
   ]
  },
  {
   "attachments": {},
   "cell_type": "markdown",
   "metadata": {},
   "source": [
    "### Predict the regression line\n",
    "line = reg.coef_*X+reg.intercept_\n"
   ]
  },
  {
   "attachments": {},
   "cell_type": "markdown",
   "metadata": {},
   "source": [
    "### Finding the weights and bias"
   ]
  },
  {
   "cell_type": "code",
   "execution_count": 56,
   "metadata": {},
   "outputs": [
    {
     "data": {
      "text/plain": [
       "array([[9.68207815]])"
      ]
     },
     "execution_count": 56,
     "metadata": {},
     "output_type": "execute_result"
    }
   ],
   "source": [
    "# Obtain the weights (coefficients) of the regression\n",
    "reg.coef_"
   ]
  },
  {
   "cell_type": "code",
   "execution_count": 57,
   "metadata": {},
   "outputs": [
    {
     "data": {
      "text/plain": [
       "array([2.82689235])"
      ]
     },
     "execution_count": 57,
     "metadata": {},
     "output_type": "execute_result"
    }
   ],
   "source": [
    "# Obtain the bias (intercept) of the regression\n",
    "reg.intercept_"
   ]
  },
  {
   "attachments": {},
   "cell_type": "markdown",
   "metadata": {},
   "source": [
    "## Testing & make prediction"
   ]
  },
  {
   "cell_type": "code",
   "execution_count": 58,
   "metadata": {},
   "outputs": [
    {
     "data": {
      "text/plain": [
       "array([[83.18814104],\n",
       "       [27.03208774],\n",
       "       [27.03208774],\n",
       "       [69.63323162],\n",
       "       [59.95115347]])"
      ]
     },
     "execution_count": 58,
     "metadata": {},
     "output_type": "execute_result"
    }
   ],
   "source": [
    "#Let's check the outputs of the regression\n",
    "# I'll store them in y_hat_test as this is the 'theoretical' name of the predictions\n",
    "y_hat_test = reg.predict(X_test)\n",
    "y_hat_test"
   ]
  },
  {
   "attachments": {},
   "cell_type": "markdown",
   "metadata": {},
   "source": [
    "# Plotting the regression line"
   ]
  },
  {
   "cell_type": "code",
   "execution_count": 59,
   "metadata": {},
   "outputs": [
    {
     "data": {
      "image/png": "[encoded data removed]",
      "text/plain": [
       "<Figure size 640x480 with 1 Axes>"
      ]
     },
     "metadata": {},
     "output_type": "display_data"
    }
   ],
   "source": [
    "plt.scatter(X_train,y_train ,marker='o')\n",
    "plt.scatter(X_test,y_test,marker = '^' )\n",
    "# Parametrized version of the regression line\n",
    "y_hat = reg.coef_*x_matrix + reg.intercept_\n",
    "# Non-parametrized version of the regression line\n",
    "#y_hat = 9.68207815 *X + 2.82689235\n",
    "# Plotting the regression line\n",
    "fig = plt.plot(X,y_hat, lw=4, c='orange', label ='regression line')\n",
    "plt.xlabel('Hours', fontsize = 20)\n",
    "plt.ylabel('Scores', fontsize = 20)\n",
    "plt.show()"
   ]
  },
  {
   "attachments": {},
   "cell_type": "markdown",
   "metadata": {},
   "source": [
    "## Model Evaluation"
   ]
  },
  {
   "attachments": {},
   "cell_type": "markdown",
   "metadata": {},
   "source": [
    "### for evaluation we need data in 1D "
   ]
  },
  {
   "cell_type": "code",
   "execution_count": 60,
   "metadata": {},
   "outputs": [
    {
     "data": {
      "text/plain": [
       "(5,)"
      ]
     },
     "execution_count": 60,
     "metadata": {},
     "output_type": "execute_result"
    }
   ],
   "source": [
    "y_test\n",
    "y_test_temp = y_test.transpose()[0]\n",
    "y_hat_test\n",
    "y_hat_test_temp = y_hat_test.transpose()[0]\n",
    "list(y_hat_test_temp)\n",
    "y_hat_test_temp.shape"
   ]
  },
  {
   "cell_type": "code",
   "execution_count": 61,
   "metadata": {},
   "outputs": [
    {
     "data": {
      "text/html": [
       "<div>\n",
       "<style scoped>\n",
       "    .dataframe tbody tr th:only-of-type {\n",
       "        vertical-align: middle;\n",
       "    }\n",
       "\n",
       "    .dataframe tbody tr th {\n",
       "        vertical-align: top;\n",
       "    }\n",
       "\n",
       "    .dataframe thead th {\n",
       "        text-align: right;\n",
       "    }\n",
       "</style>\n",
       "<table border=\"1\" class=\"dataframe\">\n",
       "  <thead>\n",
       "    <tr style=\"text-align: right;\">\n",
       "      <th></th>\n",
       "      <th>Actual Score</th>\n",
       "      <th>Predicted Scores</th>\n",
       "      <th>diff</th>\n",
       "    </tr>\n",
       "  </thead>\n",
       "  <tbody>\n",
       "    <tr>\n",
       "      <th>0</th>\n",
       "      <td>81</td>\n",
       "      <td>83.19</td>\n",
       "      <td>-2.19</td>\n",
       "    </tr>\n",
       "    <tr>\n",
       "      <th>1</th>\n",
       "      <td>30</td>\n",
       "      <td>27.03</td>\n",
       "      <td>2.97</td>\n",
       "    </tr>\n",
       "    <tr>\n",
       "      <th>2</th>\n",
       "      <td>21</td>\n",
       "      <td>27.03</td>\n",
       "      <td>-6.03</td>\n",
       "    </tr>\n",
       "    <tr>\n",
       "      <th>3</th>\n",
       "      <td>76</td>\n",
       "      <td>69.63</td>\n",
       "      <td>6.37</td>\n",
       "    </tr>\n",
       "    <tr>\n",
       "      <th>4</th>\n",
       "      <td>62</td>\n",
       "      <td>59.95</td>\n",
       "      <td>2.05</td>\n",
       "    </tr>\n",
       "  </tbody>\n",
       "</table>\n",
       "</div>"
      ],
      "text/plain": [
       "   Actual Score  Predicted Scores  diff\n",
       "0            81             83.19 -2.19\n",
       "1            30             27.03  2.97\n",
       "2            21             27.03 -6.03\n",
       "3            76             69.63  6.37\n",
       "4            62             59.95  2.05"
      ]
     },
     "execution_count": 61,
     "metadata": {},
     "output_type": "execute_result"
    }
   ],
   "source": [
    "# Finally, let's manually check these predictions\n",
    "df = pd.DataFrame({'Actual Score': y_test_temp, 'Predicted Scores' : y_hat_test_temp })\n",
    "df['diff'] = df['Actual Score'] - df['Predicted Scores']\n",
    "df"
   ]
  },
  {
   "cell_type": "code",
   "execution_count": 62,
   "metadata": {},
   "outputs": [
    {
     "data": {
      "text/plain": [
       "3.9207511902099244"
      ]
     },
     "execution_count": 62,
     "metadata": {},
     "output_type": "execute_result"
    }
   ],
   "source": [
    "metrics.mean_absolute_error(y_test,y_hat_test)"
   ]
  },
  {
   "cell_type": "code",
   "execution_count": 63,
   "metadata": {},
   "outputs": [],
   "source": [
    "y_hat = 9.68207815 * x_matrix + 2.82689235"
   ]
  },
  {
   "cell_type": "code",
   "execution_count": 64,
   "metadata": {},
   "outputs": [
    {
     "data": {
      "image/png": "[encoded data removed]",
      "text/plain": [
       "<Figure size 640x480 with 1 Axes>"
      ]
     },
     "metadata": {},
     "output_type": "display_data"
    }
   ],
   "source": [
    "# Sort data for showing Actual Line and Predicted Line\n",
    "df = data.sort_values('Hours')\n",
    "plt.plot(df['Hours'], df['Scores'], label = \"Actual Line\")\n",
    "fig = plt.plot(X,y_hat, lw=1, c='orange', label ='regression line')\n",
    "plt.xlabel('Hours')\n",
    "plt.ylabel('Scores')\n",
    "plt.title(\"Two lines on same graph!\")\n",
    "plt.legend()\n",
    "plt.show()"
   ]
  },
  {
   "attachments": {},
   "cell_type": "markdown",
   "metadata": {},
   "source": [
    "## What will be predicted score if a student studies for 9.25 hrs/ day?"
   ]
  },
  {
   "cell_type": "code",
   "execution_count": 65,
   "metadata": {},
   "outputs": [
    {
     "data": {
      "text/plain": [
       "array([[92.38611528]])"
      ]
     },
     "execution_count": 65,
     "metadata": {},
     "output_type": "execute_result"
    }
   ],
   "source": [
    "pre_score = reg.predict([[9.25 ]])\n",
    "pre_score"
   ]
  }
 ],
 "metadata": {
  "kernelspec": {
   "display_name": "base",
   "language": "python",
   "name": "python3"
  },
  "language_info": {
   "codemirror_mode": {
    "name": "ipython",
    "version": 3
   },
   "file_extension": ".py",
   "mimetype": "text/x-python",
   "name": "python",
   "nbconvert_exporter": "python",
   "pygments_lexer": "ipython3",
   "version": "3.9.13"
  },
  "orig_nbformat": 4,
  "vscode": {
   "interpreter": {
    "hash": "cde0164044ac60a978514429aaf30e2e0a618650a473f4fb552b12f33847bb65"
   }
  }
 },
 "nbformat": 4,
 "nbformat_minor": 2
}
